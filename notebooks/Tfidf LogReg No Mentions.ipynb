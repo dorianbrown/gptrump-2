{
 "cells": [
  {
   "cell_type": "code",
   "execution_count": 1,
   "metadata": {},
   "outputs": [],
   "source": [
    "%load_ext autoreload\n",
    "%autoreload 2\n",
    "%matplotlib inline\n",
    "\n",
    "import pandas as pd\n",
    "import seaborn as sns\n",
    "import matplotlib.pyplot as plt\n",
    "import numpy as np\n",
    "\n",
    "import sys\n",
    "sys.path.append(\"..\")\n",
    "import model_parts"
   ]
  },
  {
   "cell_type": "code",
   "execution_count": 2,
   "metadata": {},
   "outputs": [
    {
     "name": "stdout",
     "output_type": "stream",
     "text": [
      "Removed 90 rows during preprocessing\n",
      "Combining 35 multipart messages\n",
      "Train\n",
      "not_trump:trump 11000:8402\n",
      "Test\n",
      "not_trump:trump 2693:3775\n"
     ]
    }
   ],
   "source": [
    "twitter_df = pd.read_csv(\"../data/trump_twitter_200905_201607.csv\")\n",
    "twitter_df = model_parts.preprocessing(twitter_df)\n",
    "twitter_df[\"text\"] = twitter_df[\"text\"].str.replace(\"\\@[^\\s]+\", '', regex=True)\n",
    "twitter_df[\"text\"] = twitter_df[\"text\"].str.replace(\"\\s+\", ' ', regex=True)\n",
    "X_train, X_test, y_train, y_test = model_parts.create_train_test(twitter_df)"
   ]
  },
  {
   "cell_type": "code",
   "execution_count": 3,
   "metadata": {},
   "outputs": [
    {
     "data": {
      "text/plain": [
       "Pipeline(memory=None,\n",
       "     steps=[('tfidf', TfidfVectorizer(analyzer='word', binary=False, decode_error='strict',\n",
       "        dtype=<class 'numpy.float64'>, encoding='utf-8', input='content',\n",
       "        lowercase=True, max_df=1.0, max_features=None, min_df=1,\n",
       "        ngram_range=(1, 2), norm='l2', preprocessor=None, smooth_idf=True,...enalty='l2', random_state=None, solver='lbfgs',\n",
       "          tol=0.0001, verbose=0, warm_start=False))])"
      ]
     },
     "execution_count": 3,
     "metadata": {},
     "output_type": "execute_result"
    }
   ],
   "source": [
    "from sklearn.linear_model import LogisticRegression\n",
    "from sklearn.feature_extraction.text import TfidfVectorizer\n",
    "from sklearn.pipeline import Pipeline, FeatureUnion\n",
    "\n",
    "clf = Pipeline([\n",
    "    ('tfidf', TfidfVectorizer(stop_words='english',\n",
    "                              ngram_range=(1, 2))),\n",
    "    ('classifier', LogisticRegression(solver='lbfgs',\n",
    "                                      max_iter=1000))\n",
    "])\n",
    "\n",
    "clf.fit(X_train.text, y_train)"
   ]
  },
  {
   "cell_type": "code",
   "execution_count": 4,
   "metadata": {},
   "outputs": [
    {
     "name": "stdout",
     "output_type": "stream",
     "text": [
      "Evaluating with threshold: 0.5\n",
      "AUC: 0.643\n",
      "TN: 1847 FP: 846\n",
      "FN: 1790 TP: 1985\n"
     ]
    },
    {
     "data": {
      "image/png": "[encoded data removed]",
      "text/plain": [
       "<Figure size 432x288 with 1 Axes>"
      ]
     },
     "metadata": {
      "needs_background": "light"
     },
     "output_type": "display_data"
    }
   ],
   "source": [
    "model_parts.evaluate_model(X_test.text, y_test, clf)"
   ]
  },
  {
   "cell_type": "markdown",
   "metadata": {},
   "source": [
    "## Understanding False Positives\n",
    "\n",
    "So our model seems to be quite okay at find the real trump's messages. Unfortunately there are still a lot of false postives, which we'll try and understand better here.\n",
    "\n",
    "For now we'll focus on false positives with a threshold of `0.5`"
   ]
  },
  {
   "cell_type": "code",
   "execution_count": 5,
   "metadata": {},
   "outputs": [
    {
     "name": "stdout",
     "output_type": "stream",
     "text": [
      " Thank you Jill Marlon & all for the amazing & personal service. #Chicago'sBestHotel #Trump2016 Thanks.\n",
      " Trump for President! Tom Brady as running mate?\n",
      " Trump is the man #Trump2016\n",
      " I hope the Don throws his hat in the ring for POTUS. He can't be bought! He said this country is going to Hell\n",
      "Via “DONALD TRUMP: ‘RICH PEOPLE DON’T LIKE ME’–POOR MIDDLE-INCOME PEOPLE ‘LIKE ME BEST’” \n",
      "Via \"14 Reasons Donald Trump Is Really Running — and Doing Well\" \n",
      "Today is armed forces day. Thank you to our military service members! I love you all!\n",
      " ignoring haters and losers is the best medicine of success build a wall from whatever they throw towards you Sir.\n",
      " Look forward to hearing you every Monday on You are exactly what this country needs!!!\n",
      " im ready for u to make america great again\n"
     ]
    }
   ],
   "source": [
    "y_probs = clf.predict_proba(X_test.text)[:,1]\n",
    "fp_ind = (y_probs > 0.5) & ~y_test\n",
    "\n",
    "for msg in X_test[fp_ind][\"text\"][:10].values:\n",
    "    print(msg)"
   ]
  },
  {
   "cell_type": "markdown",
   "metadata": {},
   "source": [
    "Seems to be a data quality issue. These all look like retweets, while we had supposedly filtered those out. Lets look at the messages with `@realDonalTrump`, since it wouldn't really make much sense for trump to reference himself in his tweets."
   ]
  },
  {
   "cell_type": "code",
   "execution_count": 6,
   "metadata": {},
   "outputs": [
    {
     "data": {
      "text/html": [
       "\n",
       "    <style>\n",
       "    table.eli5-weights tr:hover {\n",
       "        filter: brightness(85%);\n",
       "    }\n",
       "</style>\n",
       "\n",
       "\n",
       "\n",
       "    \n",
       "\n",
       "    \n",
       "\n",
       "    \n",
       "\n",
       "    \n",
       "\n",
       "    \n",
       "\n",
       "    \n",
       "\n",
       "\n",
       "    \n",
       "\n",
       "    \n",
       "\n",
       "    \n",
       "\n",
       "    \n",
       "        \n",
       "\n",
       "    \n",
       "\n",
       "        \n",
       "\n",
       "        \n",
       "    \n",
       "        \n",
       "        \n",
       "    \n",
       "        <p style=\"margin-bottom: 0.5em; margin-top: 0em\">\n",
       "            <b>\n",
       "    \n",
       "        y=1\n",
       "    \n",
       "</b>\n",
       "\n",
       "    \n",
       "    (probability <b>0.918</b>, score <b>2.413</b>)\n",
       "\n",
       "top features\n",
       "        </p>\n",
       "    \n",
       "    <table class=\"eli5-weights\"\n",
       "           style=\"border-collapse: collapse; border: none; margin-top: 0em; table-layout: auto; margin-bottom: 2em;\">\n",
       "        <thead>\n",
       "        <tr style=\"border: none;\">\n",
       "            \n",
       "                <th style=\"padding: 0 1em 0 0.5em; text-align: right; border: none;\" title=\"Feature contribution already accounts for the feature value (for linear models, contribution = weight * feature value), and the sum of feature contributions is equal to the score or, for some classifiers, to the probability. Feature values are shown if &quot;show_feature_values&quot; is True.\">\n",
       "                    Contribution<sup>?</sup>\n",
       "                </th>\n",
       "            \n",
       "            <th style=\"padding: 0 0.5em 0 0.5em; text-align: left; border: none;\">Feature</th>\n",
       "            \n",
       "        </tr>\n",
       "        </thead>\n",
       "        <tbody>\n",
       "        \n",
       "            <tr style=\"background-color: hsl(120, 100.00%, 80.00%); border: none;\">\n",
       "    <td style=\"padding: 0 1em 0 0.5em; text-align: right; border: none;\">\n",
       "        +2.395\n",
       "    </td>\n",
       "    <td style=\"padding: 0 0.5em 0 0.5em; text-align: left; border: none;\">\n",
       "        Highlighted in text (sum)\n",
       "    </td>\n",
       "    \n",
       "</tr>\n",
       "        \n",
       "            <tr style=\"background-color: hsl(120, 100.00%, 99.36%); border: none;\">\n",
       "    <td style=\"padding: 0 1em 0 0.5em; text-align: right; border: none;\">\n",
       "        +0.017\n",
       "    </td>\n",
       "    <td style=\"padding: 0 0.5em 0 0.5em; text-align: left; border: none;\">\n",
       "        &lt;BIAS&gt;\n",
       "    </td>\n",
       "    \n",
       "</tr>\n",
       "        \n",
       "        \n",
       "\n",
       "        \n",
       "        \n",
       "\n",
       "        </tbody>\n",
       "    </table>\n",
       "\n",
       "    \n",
       "\n",
       "\n",
       "\n",
       "    <p style=\"margin-bottom: 2.5em; margin-top:-0.5em;\">\n",
       "        <span style=\"opacity: 0.80\">@</span><span style=\"background-color: hsl(0, 100.00%, 97.41%); opacity: 0.80\" title=\"-0.024\">enzotorin</span><span style=\"opacity: 0.80\"> @</span><span style=\"background-color: hsl(0, 100.00%, 70.65%); opacity: 0.93\" title=\"-0.764\">realdonaldtrump</span><span style=\"opacity: 0.80\"> </span><span style=\"background-color: hsl(120, 100.00%, 91.79%); opacity: 0.82\" title=\"0.124\">trump</span><span style=\"opacity: 0.80\"> </span><span style=\"background-color: hsl(120, 100.00%, 95.27%); opacity: 0.81\" title=\"0.056\">is</span><span style=\"opacity: 0.80\"> </span><span style=\"background-color: hsl(120, 100.00%, 97.53%); opacity: 0.80\" title=\"0.022\">the</span><span style=\"opacity: 0.80\"> </span><span style=\"background-color: hsl(120, 100.00%, 70.00%); opacity: 0.93\" title=\"0.788\">man</span><span style=\"opacity: 0.80\"> #</span><span style=\"background-color: hsl(120, 100.00%, 60.00%); opacity: 1.00\" title=\"1.189\">trump2016</span>\n",
       "    </p>\n",
       "\n",
       "\n",
       "    \n",
       "\n",
       "    \n",
       "\n",
       "    \n",
       "\n",
       "    \n",
       "\n",
       "\n",
       "    \n",
       "\n",
       "    \n",
       "\n",
       "    \n",
       "\n",
       "    \n",
       "\n",
       "    \n",
       "\n",
       "    \n",
       "\n",
       "\n",
       "    \n",
       "\n",
       "    \n",
       "\n",
       "    \n",
       "\n",
       "    \n",
       "\n",
       "    \n",
       "\n",
       "    \n",
       "\n",
       "\n",
       "\n"
      ],
      "text/plain": [
       "Explanation(estimator=\"SGDClassifier(alpha=0.001, average=False, class_weight=None,\\n       early_stopping=False, epsilon=0.1, eta0=0.0, fit_intercept=True,\\n       l1_ratio=0.15, learning_rate='optimal', loss='log', max_iter=None,\\n       n_iter=None, n_iter_no_change=5, n_jobs=None, penalty='elasticnet',\\n       power_t=0.5,\\n       random_state=<mtrand.RandomState object at 0x7febc7cb57e0>,\\n       shuffle=True, tol=0.001, validation_fraction=0.1, verbose=0,\\n       warm_start=False)\", description=None, error=None, method='linear model', is_regression=False, targets=[TargetExplanation(target=1, feature_weights=FeatureWeights(pos=[FeatureWeight(feature='trump2016', weight=2.1113093777225136, std=None, value=1.0), FeatureWeight(feature='man', weight=1.6742020474442514, std=None, value=1.0), FeatureWeight(feature='trump', weight=0.2740678868220363, std=None, value=1.0), FeatureWeight(feature='is the', weight=0.05623343569080074, std=None, value=1.0), FeatureWeight(feature='the man', weight=0.03665380504149125, std=None, value=1.0), FeatureWeight(feature='<BIAS>', weight=0.01739692901870675, std=None, value=1.0)], neg=[FeatureWeight(feature='man trump2016', weight=-0.9226012932112658, std=None, value=1.0), FeatureWeight(feature='realdonaldtrump', weight=-0.5898990869506704, std=None, value=1.0), FeatureWeight(feature='realdonaldtrump trump', weight=-0.15027300263438087, std=None, value=1.0), FeatureWeight(feature='the', weight=-0.07068298911356408, std=None, value=1.0), FeatureWeight(feature='enzotorin realdonaldtrump', weight=-0.023763317611126496, std=None, value=1.0)], pos_remaining=0, neg_remaining=0), proba=0.9177863884486224, score=2.412643792218792, weighted_spans=WeightedSpans(docs_weighted_spans=[DocWeightedSpans(document='@enzotorin @realdonaldtrump trump is the man #trump2016', spans=[('realdonaldtrump', [(12, 27)], -0.5898990869506704), ('trump', [(28, 33)], 0.2740678868220363), ('the', [(37, 40)], -0.07068298911356408), ('man', [(41, 44)], 1.6742020474442514), ('trump2016', [(46, 55)], 2.1113093777225136), ('enzotorin realdonaldtrump', [(1, 10), (12, 27)], -0.023763317611126496), ('realdonaldtrump trump', [(12, 27), (28, 33)], -0.15027300263438087), ('is the', [(34, 36), (37, 40)], 0.05623343569080074), ('the man', [(37, 40), (41, 44)], 0.03665380504149125), ('man trump2016', [(41, 44), (46, 55)], -0.9226012932112658)], preserve_density=False, vec_name=None)], other=FeatureWeights(pos=[FeatureWeight(feature=<FormattedFeatureName 'Highlighted in text (sum)'>, weight=2.395246863200085, std=None, value=None), FeatureWeight(feature='<BIAS>', weight=0.01739692901870675, std=None, value=1.0)], neg=[], pos_remaining=0, neg_remaining=0)))], feature_importances=None, decision_tree=None, highlight_spaces=None, transition_features=None)"
      ]
     },
     "execution_count": 6,
     "metadata": {},
     "output_type": "execute_result"
    }
   ],
   "source": [
    "from eli5.lime import TextExplainer\n",
    "\n",
    "te = TextExplainer()\n",
    "te.fit(\"@enzotorin @realDonaldTrump Trump is the man #Trump2016\", clf.predict_proba)\n",
    "te.explain_prediction()"
   ]
  },
  {
   "cell_type": "code",
   "execution_count": 7,
   "metadata": {},
   "outputs": [
    {
     "data": {
      "text/html": [
       "\n",
       "    <style>\n",
       "    table.eli5-weights tr:hover {\n",
       "        filter: brightness(85%);\n",
       "    }\n",
       "</style>\n",
       "\n",
       "\n",
       "\n",
       "    \n",
       "\n",
       "    \n",
       "\n",
       "    \n",
       "\n",
       "    \n",
       "\n",
       "    \n",
       "\n",
       "    \n",
       "\n",
       "\n",
       "    \n",
       "\n",
       "    \n",
       "\n",
       "    \n",
       "\n",
       "    \n",
       "        \n",
       "\n",
       "    \n",
       "\n",
       "        \n",
       "\n",
       "        \n",
       "    \n",
       "        \n",
       "        \n",
       "    \n",
       "        <p style=\"margin-bottom: 0.5em; margin-top: 0em\">\n",
       "            <b>\n",
       "    \n",
       "        y=1\n",
       "    \n",
       "</b>\n",
       "\n",
       "    \n",
       "    (probability <b>0.843</b>, score <b>1.680</b>)\n",
       "\n",
       "top features\n",
       "        </p>\n",
       "    \n",
       "    <table class=\"eli5-weights\"\n",
       "           style=\"border-collapse: collapse; border: none; margin-top: 0em; table-layout: auto; margin-bottom: 2em;\">\n",
       "        <thead>\n",
       "        <tr style=\"border: none;\">\n",
       "            \n",
       "                <th style=\"padding: 0 1em 0 0.5em; text-align: right; border: none;\" title=\"Feature contribution already accounts for the feature value (for linear models, contribution = weight * feature value), and the sum of feature contributions is equal to the score or, for some classifiers, to the probability. Feature values are shown if &quot;show_feature_values&quot; is True.\">\n",
       "                    Contribution<sup>?</sup>\n",
       "                </th>\n",
       "            \n",
       "            <th style=\"padding: 0 0.5em 0 0.5em; text-align: left; border: none;\">Feature</th>\n",
       "            \n",
       "        </tr>\n",
       "        </thead>\n",
       "        <tbody>\n",
       "        \n",
       "            <tr style=\"background-color: hsl(120, 100.00%, 80.00%); border: none;\">\n",
       "    <td style=\"padding: 0 1em 0 0.5em; text-align: right; border: none;\">\n",
       "        +1.733\n",
       "    </td>\n",
       "    <td style=\"padding: 0 0.5em 0 0.5em; text-align: left; border: none;\">\n",
       "        Highlighted in text (sum)\n",
       "    </td>\n",
       "    \n",
       "</tr>\n",
       "        \n",
       "        \n",
       "\n",
       "        \n",
       "        \n",
       "            <tr style=\"background-color: hsl(0, 100.00%, 98.26%); border: none;\">\n",
       "    <td style=\"padding: 0 1em 0 0.5em; text-align: right; border: none;\">\n",
       "        -0.053\n",
       "    </td>\n",
       "    <td style=\"padding: 0 0.5em 0 0.5em; text-align: left; border: none;\">\n",
       "        &lt;BIAS&gt;\n",
       "    </td>\n",
       "    \n",
       "</tr>\n",
       "        \n",
       "\n",
       "        </tbody>\n",
       "    </table>\n",
       "\n",
       "    \n",
       "\n",
       "\n",
       "\n",
       "    <p style=\"margin-bottom: 2.5em; margin-top:-0.5em;\">\n",
       "        <span style=\"opacity: 0.80\">@wilykayote @lentoddwor </span><span style=\"background-color: hsl(0, 100.00%, 99.26%); opacity: 0.80\" title=\"-0.002\">i</span><span style=\"opacity: 0.80\"> </span><span style=\"background-color: hsl(120, 100.00%, 83.73%); opacity: 0.86\" title=\"0.135\">hope</span><span style=\"opacity: 0.80\"> </span><span style=\"background-color: hsl(0, 100.00%, 85.57%); opacity: 0.85\" title=\"-0.114\">the</span><span style=\"opacity: 0.80\"> </span><span style=\"background-color: hsl(0, 100.00%, 93.08%); opacity: 0.82\" title=\"-0.040\">don</span><span style=\"opacity: 0.80\"> </span><span style=\"background-color: hsl(0, 100.00%, 94.03%); opacity: 0.81\" title=\"-0.032\">throws</span><span style=\"opacity: 0.80\"> </span><span style=\"background-color: hsl(0, 100.00%, 97.64%); opacity: 0.80\" title=\"-0.009\">his</span><span style=\"opacity: 0.80\"> </span><span style=\"background-color: hsl(0, 100.00%, 95.22%); opacity: 0.81\" title=\"-0.024\">hat</span><span style=\"opacity: 0.80\"> </span><span style=\"background-color: hsl(120, 100.00%, 94.91%); opacity: 0.81\" title=\"0.026\">in</span><span style=\"opacity: 0.80\"> </span><span style=\"background-color: hsl(0, 100.00%, 95.76%); opacity: 0.81\" title=\"-0.020\">the</span><span style=\"opacity: 0.80\"> </span><span style=\"background-color: hsl(0, 100.00%, 93.30%); opacity: 0.82\" title=\"-0.038\">ring</span><span style=\"opacity: 0.80\"> for </span><span style=\"background-color: hsl(120, 100.00%, 65.22%); opacity: 0.96\" title=\"0.401\">potus</span><span style=\"opacity: 0.80\">. </span><span style=\"background-color: hsl(120, 100.00%, 91.42%); opacity: 0.82\" title=\"0.054\">he</span><span style=\"opacity: 0.80\"> </span><span style=\"background-color: hsl(120, 100.00%, 91.10%); opacity: 0.82\" title=\"0.057\">can</span><span style=\"opacity: 0.80\">&#x27;</span><span style=\"background-color: hsl(120, 100.00%, 91.10%); opacity: 0.82\" title=\"0.057\">t</span><span style=\"opacity: 0.80\"> </span><span style=\"background-color: hsl(0, 100.00%, 89.63%); opacity: 0.83\" title=\"-0.071\">be</span><span style=\"opacity: 0.80\"> </span><span style=\"background-color: hsl(120, 100.00%, 81.86%); opacity: 0.86\" title=\"0.158\">bought</span><span style=\"opacity: 0.80\">! </span><span style=\"background-color: hsl(120, 100.00%, 91.42%); opacity: 0.82\" title=\"0.054\">he</span><span style=\"opacity: 0.80\"> </span><span style=\"background-color: hsl(120, 100.00%, 84.45%); opacity: 0.85\" title=\"0.127\">said</span><span style=\"opacity: 0.80\"> </span><span style=\"background-color: hsl(0, 100.00%, 96.69%); opacity: 0.81\" title=\"-0.014\">this</span><span style=\"opacity: 0.80\"> </span><span style=\"background-color: hsl(120, 100.00%, 60.00%); opacity: 1.00\" title=\"0.490\">country</span><span style=\"opacity: 0.80\"> </span><span style=\"background-color: hsl(0, 100.00%, 95.11%); opacity: 0.81\" title=\"-0.024\">is</span><span style=\"opacity: 0.80\"> </span><span style=\"background-color: hsl(0, 100.00%, 95.56%); opacity: 0.81\" title=\"-0.021\">going</span><span style=\"opacity: 0.80\"> </span><span style=\"background-color: hsl(0, 100.00%, 84.06%); opacity: 0.85\" title=\"-0.131\">to</span><span style=\"opacity: 0.80\"> </span><span style=\"background-color: hsl(120, 100.00%, 86.43%); opacity: 0.84\" title=\"0.104\">hell</span>\n",
       "    </p>\n",
       "\n",
       "\n",
       "    \n",
       "\n",
       "    \n",
       "\n",
       "    \n",
       "\n",
       "    \n",
       "\n",
       "\n",
       "    \n",
       "\n",
       "    \n",
       "\n",
       "    \n",
       "\n",
       "    \n",
       "\n",
       "    \n",
       "\n",
       "    \n",
       "\n",
       "\n",
       "    \n",
       "\n",
       "    \n",
       "\n",
       "    \n",
       "\n",
       "    \n",
       "\n",
       "    \n",
       "\n",
       "    \n",
       "\n",
       "\n",
       "\n"
      ],
      "text/plain": [
       "Explanation(estimator=\"SGDClassifier(alpha=0.001, average=False, class_weight=None,\\n       early_stopping=False, epsilon=0.1, eta0=0.0, fit_intercept=True,\\n       l1_ratio=0.15, learning_rate='optimal', loss='log', max_iter=None,\\n       n_iter=None, n_iter_no_change=5, n_jobs=None, penalty='elasticnet',\\n       power_t=0.5,\\n       random_state=<mtrand.RandomState object at 0x7febc83293a8>,\\n       shuffle=True, tol=0.001, validation_fraction=0.1, verbose=0,\\n       warm_start=False)\", description=None, error=None, method='linear model', is_regression=False, targets=[TargetExplanation(target=1, feature_weights=FeatureWeights(pos=[FeatureWeight(feature='country', weight=0.5805148665877207, std=None, value=1.0), FeatureWeight(feature='potus', weight=0.40091633077456373, std=None, value=1.0), FeatureWeight(feature='bought', weight=0.22932059490724135, std=None, value=1.0), FeatureWeight(feature='hope', weight=0.20869505523127901, std=None, value=1.0), FeatureWeight(feature='hell', weight=0.18218100928289027, std=None, value=1.0), FeatureWeight(feature='going', weight=0.128832576126697, std=None, value=1.0), FeatureWeight(feature='said', weight=0.12690112728124314, std=None, value=1.0), FeatureWeight(feature='is', weight=0.1207406486213652, std=None, value=1.0), FeatureWeight(feature='he', weight=0.10849943181771371, std=None, value=2.0), FeatureWeight(feature='don', weight=0.09270044291058953, std=None, value=1.0), FeatureWeight(feature='the', weight=0.08340917319662751, std=None, value=2.0), FeatureWeight(feature='can t', weight=0.05721063081447956, std=None, value=1.0), FeatureWeight(feature='this', weight=0.02827542755685062, std=None, value=1.0), FeatureWeight(feature='in', weight=0.025768339627602024, std=None, value=1.0), FeatureWeight(feature='ring', weight=0.02336536982469819, std=None, value=1.0), FeatureWeight(feature='throws', weight=0.016200717531622787, std=None, value=1.0)], neg=[FeatureWeight(feature='is going', weight=-0.09621523555149501, std=None, value=1.0), FeatureWeight(feature='the don', weight=-0.08410004362783557, std=None, value=1.0), FeatureWeight(feature='to hell', weight=-0.07768581670274988, std=None, value=1.0), FeatureWeight(feature='hope the', weight=-0.07167687094359107, std=None, value=1.0), FeatureWeight(feature='be bought', weight=-0.071147996748818, std=None, value=1.0), FeatureWeight(feature='the ring', weight=-0.06153055171683918, std=None, value=1.0), FeatureWeight(feature='going to', weight=-0.05377696527999836, std=None, value=1.0), FeatureWeight(feature='<BIAS>', weight=-0.052853331960883626, std=None, value=1.0), FeatureWeight(feature='country is', weight=-0.04882535902903631, std=None, value=1.0), FeatureWeight(feature='don throws', weight=-0.048556861604937385, std=None, value=1.0), FeatureWeight(feature='this country', weight=-0.04216921226084629, std=None, value=1.0), FeatureWeight(feature='hat', weight=-0.014953614706199648, std=None, value=1.0), FeatureWeight(feature='his hat', weight=-0.008611177384209601, std=None, value=1.0), FeatureWeight(feature='i hope', weight=-0.001624358857265375, std=None, value=1.0)], pos_remaining=0, neg_remaining=0), proba=0.8428786215245833, score=1.6798043457184788, weighted_spans=WeightedSpans(docs_weighted_spans=[DocWeightedSpans(document=\"@wilykayote @lentoddwor i hope the don throws his hat in the ring for potus. he can't be bought! he said this country is going to hell\", spans=[('hope', [(26, 30)], 0.20869505523127901), ('the', [(31, 34)], 0.08340917319662751), ('don', [(35, 38)], 0.09270044291058953), ('throws', [(39, 45)], 0.016200717531622787), ('hat', [(50, 53)], -0.014953614706199648), ('in', [(54, 56)], 0.025768339627602024), ('the', [(57, 60)], 0.08340917319662751), ('ring', [(61, 65)], 0.02336536982469819), ('potus', [(70, 75)], 0.40091633077456373), ('he', [(77, 79)], 0.10849943181771371), ('bought', [(89, 95)], 0.22932059490724135), ('he', [(97, 99)], 0.10849943181771371), ('said', [(100, 104)], 0.12690112728124314), ('this', [(105, 109)], 0.02827542755685062), ('country', [(110, 117)], 0.5805148665877207), ('is', [(118, 120)], 0.1207406486213652), ('going', [(121, 126)], 0.128832576126697), ('hell', [(130, 134)], 0.18218100928289027), ('i hope', [(24, 25), (26, 30)], -0.001624358857265375), ('hope the', [(26, 30), (31, 34)], -0.07167687094359107), ('the don', [(31, 34), (35, 38)], -0.08410004362783557), ('don throws', [(35, 38), (39, 45)], -0.048556861604937385), ('his hat', [(46, 49), (50, 53)], -0.008611177384209601), ('the ring', [(57, 60), (61, 65)], -0.06153055171683918), ('can t', [(80, 83), (84, 85)], 0.05721063081447956), ('be bought', [(86, 88), (89, 95)], -0.071147996748818), ('this country', [(105, 109), (110, 117)], -0.04216921226084629), ('country is', [(110, 117), (118, 120)], -0.04882535902903631), ('is going', [(118, 120), (121, 126)], -0.09621523555149501), ('going to', [(121, 126), (127, 129)], -0.05377696527999836), ('to hell', [(127, 129), (130, 134)], -0.07768581670274988)], preserve_density=False, vec_name=None)], other=FeatureWeights(pos=[FeatureWeight(feature=<FormattedFeatureName 'Highlighted in text (sum)'>, weight=1.7326576776793634, std=None, value=None)], neg=[FeatureWeight(feature='<BIAS>', weight=-0.052853331960883626, std=None, value=1.0)], pos_remaining=0, neg_remaining=0)))], feature_importances=None, decision_tree=None, highlight_spaces=None, transition_features=None)"
      ]
     },
     "execution_count": 7,
     "metadata": {},
     "output_type": "execute_result"
    }
   ],
   "source": [
    "te.fit(\"@WilyKayote @LenToddWOR I hope the Don throws his hat in the ring for POTUS. He can't be bought! He said this country is going to Hell\", clf.predict_proba)\n",
    "te.explain_prediction()"
   ]
  },
  {
   "cell_type": "code",
   "execution_count": null,
   "metadata": {},
   "outputs": [],
   "source": []
  }
 ],
 "metadata": {
  "kernelspec": {
   "display_name": "Python 3",
   "language": "python",
   "name": "python3"
  },
  "language_info": {
   "codemirror_mode": {
    "name": "ipython",
    "version": 3
   },
   "file_extension": ".py",
   "mimetype": "text/x-python",
   "name": "python",
   "nbconvert_exporter": "python",
   "pygments_lexer": "ipython3",
   "version": "3.7.3"
  }
 },
 "nbformat": 4,
 "nbformat_minor": 2
}
