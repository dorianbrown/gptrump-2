{
 "cells": [
  {
   "cell_type": "code",
   "execution_count": 1,
   "metadata": {},
   "outputs": [],
   "source": [
    "%load_ext autoreload\n",
    "%autoreload 2\n",
    "%matplotlib inline\n",
    "\n",
    "import pandas as pd\n",
    "import seaborn as sns\n",
    "import matplotlib.pyplot as plt\n",
    "import numpy as np\n",
    "\n",
    "import sys\n",
    "sys.path.append(\"..\")\n",
    "import model_parts"
   ]
  },
  {
   "cell_type": "code",
   "execution_count": 2,
   "metadata": {},
   "outputs": [
    {
     "name": "stdout",
     "output_type": "stream",
     "text": [
      "Removed 90 rows during preprocessing\n",
      "Combining 35 multipart messages\n"
     ]
    }
   ],
   "source": [
    "twitter_df = pd.read_csv(\"../data/trump_twitter_200905_201607.csv\")\n",
    "twitter_df = model_parts.preprocessing(twitter_df)"
   ]
  },
  {
   "cell_type": "markdown",
   "metadata": {},
   "source": [
    "# Time of day for twitter messages"
   ]
  },
  {
   "cell_type": "code",
   "execution_count": 3,
   "metadata": {},
   "outputs": [
    {
     "data": {
      "text/html": [
       "<div>\n",
       "<style scoped>\n",
       "    .dataframe tbody tr th:only-of-type {\n",
       "        vertical-align: middle;\n",
       "    }\n",
       "\n",
       "    .dataframe tbody tr th {\n",
       "        vertical-align: top;\n",
       "    }\n",
       "\n",
       "    .dataframe thead th {\n",
       "        text-align: right;\n",
       "    }\n",
       "</style>\n",
       "<table border=\"1\" class=\"dataframe\">\n",
       "  <thead>\n",
       "    <tr style=\"text-align: right;\">\n",
       "      <th></th>\n",
       "      <th>is_trump</th>\n",
       "      <th>dayofweek</th>\n",
       "      <th>hour</th>\n",
       "      <th>text</th>\n",
       "    </tr>\n",
       "  </thead>\n",
       "  <tbody>\n",
       "    <tr>\n",
       "      <th>0</th>\n",
       "      <td>False</td>\n",
       "      <td>0</td>\n",
       "      <td>0</td>\n",
       "      <td>14</td>\n",
       "    </tr>\n",
       "    <tr>\n",
       "      <th>1</th>\n",
       "      <td>False</td>\n",
       "      <td>0</td>\n",
       "      <td>1</td>\n",
       "      <td>68</td>\n",
       "    </tr>\n",
       "    <tr>\n",
       "      <th>2</th>\n",
       "      <td>False</td>\n",
       "      <td>0</td>\n",
       "      <td>2</td>\n",
       "      <td>91</td>\n",
       "    </tr>\n",
       "    <tr>\n",
       "      <th>3</th>\n",
       "      <td>False</td>\n",
       "      <td>0</td>\n",
       "      <td>3</td>\n",
       "      <td>11</td>\n",
       "    </tr>\n",
       "    <tr>\n",
       "      <th>4</th>\n",
       "      <td>False</td>\n",
       "      <td>0</td>\n",
       "      <td>4</td>\n",
       "      <td>3</td>\n",
       "    </tr>\n",
       "  </tbody>\n",
       "</table>\n",
       "</div>"
      ],
      "text/plain": [
       "   is_trump  dayofweek  hour  text\n",
       "0     False          0     0    14\n",
       "1     False          0     1    68\n",
       "2     False          0     2    91\n",
       "3     False          0     3    11\n",
       "4     False          0     4     3"
      ]
     },
     "execution_count": 3,
     "metadata": {},
     "output_type": "execute_result"
    }
   ],
   "source": [
    "heatmap_df = (\n",
    "    twitter_df.assign(dayofweek = lambda x: x.created_at.dt.dayofweek,\n",
    "                      hour = lambda x: x.created_at.dt.hour)\n",
    "    .groupby([\"is_trump\", \"dayofweek\", \"hour\"])[\"text\"]\n",
    "    .count()\n",
    "    .reset_index()\n",
    ")\n",
    "heatmap_df.head()"
   ]
  },
  {
   "cell_type": "code",
   "execution_count": 4,
   "metadata": {},
   "outputs": [
    {
     "data": {
      "text/plain": [
       "<matplotlib.axes._subplots.AxesSubplot at 0x7fce8be44358>"
      ]
     },
     "execution_count": 4,
     "metadata": {},
     "output_type": "execute_result"
    },
    {
     "data": {
      "image/png": "[encoded data removed]",
      "text/plain": [
       "<Figure size 432x288 with 2 Axes>"
      ]
     },
     "metadata": {
      "needs_background": "light"
     },
     "output_type": "display_data"
    }
   ],
   "source": [
    "sns.heatmap(\n",
    "    heatmap_df\n",
    "        .loc[heatmap_df.is_trump, [\"dayofweek\", \"hour\", \"text\"]]\n",
    "        .pivot(\"hour\", \"dayofweek\", \"text\")\n",
    ")"
   ]
  },
  {
   "cell_type": "code",
   "execution_count": 5,
   "metadata": {},
   "outputs": [
    {
     "data": {
      "text/plain": [
       "<matplotlib.axes._subplots.AxesSubplot at 0x7fce8b7a7be0>"
      ]
     },
     "execution_count": 5,
     "metadata": {},
     "output_type": "execute_result"
    },
    {
     "data": {
      "image/png": "[encoded data removed]",
      "text/plain": [
       "<Figure size 432x288 with 2 Axes>"
      ]
     },
     "metadata": {
      "needs_background": "light"
     },
     "output_type": "display_data"
    }
   ],
   "source": [
    "sns.heatmap(\n",
    "    heatmap_df\n",
    "        .loc[~heatmap_df.is_trump, [\"dayofweek\", \"hour\", \"text\"]]\n",
    "        .pivot(\"hour\", \"dayofweek\", \"text\")\n",
    ")"
   ]
  },
  {
   "cell_type": "markdown",
   "metadata": {},
   "source": [
    "# TFIDF Features"
   ]
  },
  {
   "cell_type": "code",
   "execution_count": 6,
   "metadata": {},
   "outputs": [
    {
     "data": {
      "text/plain": [
       "<25870x33952 sparse matrix of type '<class 'numpy.float64'>'\n",
       "\twith 268235 stored elements in Compressed Sparse Row format>"
      ]
     },
     "execution_count": 6,
     "metadata": {},
     "output_type": "execute_result"
    }
   ],
   "source": [
    "from sklearn.feature_extraction.text import TfidfVectorizer\n",
    "\n",
    "tfidf = TfidfVectorizer(stop_words='english', ngram_range=(1, 1))\n",
    "tfidf_features = tfidf.fit_transform(twitter_df[\"text\"])\n",
    "\n",
    "tfidf_features"
   ]
  },
  {
   "cell_type": "code",
   "execution_count": 7,
   "metadata": {},
   "outputs": [
    {
     "name": "stdout",
     "output_type": "stream",
     "text": [
      "IS_TRUMP\n",
      "realdonaldtrump: 786.893231944307\n",
      "trump: 334.8701349302388\n",
      "great: 279.7227321107719\n",
      "president: 272.9685912700854\n",
      "thanks: 206.83351195669061\n",
      "run: 185.90244778556396\n",
      "donald: 179.1684461801854\n",
      "twitter: 167.0370380577728\n",
      "false: 158.19948067062833\n",
      "thank: 149.07743300637512\n",
      "just: 139.41319182190526\n",
      "android: 138.2461868649911\n",
      "country: 122.98792549110506\n",
      "america: 120.73775775956616\n",
      "love: 116.23792437032652\n",
      "vote: 115.93935266756266\n",
      "mr: 115.13766553758782\n",
      "make: 114.03687815953624\n",
      "like: 112.856193550155\n",
      "people: 112.35783191790375\n",
      "\n",
      "NOT_TRUMP\n",
      "great: 253.60484580070906\n",
      "thank: 237.55508066436101\n",
      "thanks: 234.6837364543979\n",
      "trump: 213.29518255029035\n",
      "obama: 164.59112126264816\n",
      "barackobama: 142.19028564600458\n",
      "trump2016: 136.51739704328145\n",
      "new: 133.68538920243012\n",
      "makeamericagreatagain: 118.07255874682319\n",
      "just: 110.32386366116718\n",
      "good: 107.74848583655908\n",
      "america: 107.43291235499689\n",
      "donald: 103.28459701502284\n",
      "people: 100.08666270970019\n",
      "don: 96.31363582603817\n",
      "think: 95.4730547449436\n",
      "like: 93.36615806378433\n",
      "time: 91.12213244081356\n",
      "make: 90.9123260071191\n",
      "cont: 82.85329621895873\n"
     ]
    }
   ],
   "source": [
    "n_top = 20\n",
    "\n",
    "def get_important_words(row_ind):\n",
    "    trump_features = tfidf_features[row_ind]\n",
    "    word_importances = np.asarray(trump_features.sum(axis=0)).reshape(-1)\n",
    "    best_n = np.argsort(word_importances)[-n_top:]\n",
    "    rev_vocabulary = dict((v,k) for k,v in tfidf.vocabulary_.items())\n",
    "    for  i in best_n[::-1]:\n",
    "        print(f\"{rev_vocabulary[i]}: {word_importances[i]}\")\n",
    "    \n",
    "print(\"IS_TRUMP\")\n",
    "get_important_words(twitter_df.is_trump.values)\n",
    "print(\"\\nNOT_TRUMP\")\n",
    "get_important_words(~twitter_df.is_trump.values)"
   ]
  },
  {
   "cell_type": "markdown",
   "metadata": {},
   "source": [
    "## Text Features"
   ]
  },
  {
   "cell_type": "code",
   "execution_count": 8,
   "metadata": {},
   "outputs": [
    {
     "data": {
      "text/plain": [
       "(-20, 150)"
      ]
     },
     "execution_count": 8,
     "metadata": {},
     "output_type": "execute_result"
    },
    {
     "data": {
      "image/png": "[encoded data removed]",
      "text/plain": [
       "<Figure size 432x288 with 1 Axes>"
      ]
     },
     "metadata": {
      "needs_background": "light"
     },
     "output_type": "display_data"
    }
   ],
   "source": [
    "msg_length_df = (\n",
    "    twitter_df.assign(num_words = twitter_df[\"text\"].str.split(\" \").apply(len),\n",
    "                      num_chars = twitter_df[\"text\"].apply(len),\n",
    "                      num_caps = twitter_df[\"text\"].str.replace(r\"[^\\w\\s]\", \"\", regex=True).str.findall(r\"\\s([A-Z]+)\\s\").apply(len))\n",
    "    .filter([\"is_trump\", \"num_words\", \"num_chars\", \"num_caps\"])\n",
    ")\n",
    "\n",
    "sns.distplot(msg_length_df[msg_length_df.is_trump][\"num_words\"], color=\"g\")\n",
    "sns.distplot(msg_length_df[~msg_length_df.is_trump][\"num_words\"], color=\"r\")\n",
    "plt.xlim(-20,150)"
   ]
  },
  {
   "cell_type": "code",
   "execution_count": 9,
   "metadata": {},
   "outputs": [
    {
     "data": {
      "text/plain": [
       "(-20, 1000)"
      ]
     },
     "execution_count": 9,
     "metadata": {},
     "output_type": "execute_result"
    },
    {
     "data": {
      "image/png": "[encoded data removed]",
      "text/plain": [
       "<Figure size 432x288 with 1 Axes>"
      ]
     },
     "metadata": {
      "needs_background": "light"
     },
     "output_type": "display_data"
    }
   ],
   "source": [
    "sns.distplot(msg_length_df[msg_length_df.is_trump][\"num_chars\"], color=\"g\")\n",
    "sns.distplot(msg_length_df[~msg_length_df.is_trump][\"num_chars\"], color=\"r\")\n",
    "plt.xlim(-20,1000)"
   ]
  },
  {
   "cell_type": "code",
   "execution_count": 10,
   "metadata": {},
   "outputs": [
    {
     "data": {
      "text/plain": [
       "(-1, 6)"
      ]
     },
     "execution_count": 10,
     "metadata": {},
     "output_type": "execute_result"
    },
    {
     "data": {
      "image/png": "[encoded data removed]",
      "text/plain": [
       "<Figure size 432x288 with 1 Axes>"
      ]
     },
     "metadata": {
      "needs_background": "light"
     },
     "output_type": "display_data"
    }
   ],
   "source": [
    "sns.distplot(msg_length_df[msg_length_df.is_trump][\"num_caps\"], color=\"g\")\n",
    "sns.distplot(msg_length_df[~msg_length_df.is_trump][\"num_caps\"], color=\"r\")\n",
    "plt.xlim(-1,6)"
   ]
  },
  {
   "cell_type": "code",
   "execution_count": null,
   "metadata": {},
   "outputs": [],
   "source": []
  },
  {
   "cell_type": "code",
   "execution_count": null,
   "metadata": {},
   "outputs": [],
   "source": []
  }
 ],
 "metadata": {
  "kernelspec": {
   "display_name": "Python 3",
   "language": "python",
   "name": "python3"
  },
  "language_info": {
   "codemirror_mode": {
    "name": "ipython",
    "version": 3
   },
   "file_extension": ".py",
   "mimetype": "text/x-python",
   "name": "python",
   "nbconvert_exporter": "python",
   "pygments_lexer": "ipython3",
   "version": "3.7.3"
  }
 },
 "nbformat": 4,
 "nbformat_minor": 2
}
