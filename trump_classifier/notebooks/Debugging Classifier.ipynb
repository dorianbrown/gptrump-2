{
 "cells": [
  {
   "cell_type": "code",
   "execution_count": 1,
   "metadata": {},
   "outputs": [],
   "source": [
    "%load_ext autoreload\n",
    "%autoreload 2\n",
    "%matplotlib inline\n",
    "\n",
    "import pandas as pd\n",
    "import seaborn as sns\n",
    "import matplotlib.pyplot as plt\n",
    "import numpy as np\n",
    "\n",
    "import sys\n",
    "sys.path.append(\"..\")\n",
    "import model_parts"
   ]
  },
  {
   "cell_type": "code",
   "execution_count": 2,
   "metadata": {},
   "outputs": [
    {
     "name": "stdout",
     "output_type": "stream",
     "text": [
      "Removed 90 rows during preprocessing\n",
      "Combining 35 multipart messages\n",
      "Train\n",
      "not_trump:trump 11000:8402\n",
      "Test\n",
      "not_trump:trump 2693:3775\n"
     ]
    }
   ],
   "source": [
    "twitter_df = pd.read_csv(\"../data/trump_twitter_200905_201607.csv\")\n",
    "twitter_df = model_parts.preprocessing(twitter_df)\n",
    "twitter_df[\"text\"] = twitter_df[\"text\"].str.replace(\"\\s+\", ' ', regex=True)\n",
    "X_train, X_test, y_train, y_test = model_parts.create_train_test(twitter_df)"
   ]
  },
  {
   "cell_type": "code",
   "execution_count": 4,
   "metadata": {},
   "outputs": [
    {
     "data": {
      "text/plain": [
       "Pipeline(memory=None,\n",
       "     steps=[('tfidf', TfidfVectorizer(analyzer='word', binary=False, decode_error='strict',\n",
       "        dtype=<class 'numpy.float64'>, encoding='utf-8', input='content',\n",
       "        lowercase=True, max_df=1.0, max_features=None, min_df=1,\n",
       "        ngram_range=(1, 2), norm='l2', preprocessor=None, smooth_idf=True,...enalty='l2', random_state=None, solver='lbfgs',\n",
       "          tol=0.0001, verbose=0, warm_start=False))])"
      ]
     },
     "execution_count": 4,
     "metadata": {},
     "output_type": "execute_result"
    }
   ],
   "source": [
    "from sklearn.linear_model import LogisticRegression\n",
    "from sklearn.feature_extraction.text import TfidfVectorizer\n",
    "from sklearn.pipeline import Pipeline, FeatureUnion\n",
    "\n",
    "clf = Pipeline([\n",
    "    ('tfidf', TfidfVectorizer(stop_words='english',\n",
    "                              ngram_range=(1, 2))),\n",
    "    ('classifier', LogisticRegression(solver='lbfgs',\n",
    "                                      max_iter=1000))\n",
    "])\n",
    "\n",
    "clf.fit(X_train.text, y_train)"
   ]
  },
  {
   "cell_type": "code",
   "execution_count": 5,
   "metadata": {},
   "outputs": [
    {
     "name": "stdout",
     "output_type": "stream",
     "text": [
      "Evaluating with threshold: 0.5\n",
      "AUC: 0.746\n",
      "TN: 2224 FP: 469\n",
      "FN: 1710 TP: 2065\n"
     ]
    },
    {
     "data": {
      "image/png": "[encoded data removed]",
      "text/plain": [
       "<Figure size 432x288 with 1 Axes>"
      ]
     },
     "metadata": {
      "needs_background": "light"
     },
     "output_type": "display_data"
    }
   ],
   "source": [
    "model_parts.evaluate_model(X_test.text, y_test, clf)"
   ]
  },
  {
   "cell_type": "markdown",
   "metadata": {},
   "source": [
    "## Understanding False Positives\n",
    "\n",
    "So our model seems to be quite okay at find the real trump's messages. Unfortunately there are still a lot of false postives, which we'll try and understand better here.\n",
    "\n",
    "For now we'll focus on false positives with a threshold of `0.5`"
   ]
  },
  {
   "cell_type": "code",
   "execution_count": 6,
   "metadata": {},
   "outputs": [
    {
     "name": "stdout",
     "output_type": "stream",
     "text": [
      "@KyndalBass Thank you Jill Marlon & all @TrumpChicago for the amazing & personal service. #Chicago'sBestHotel #Trump2016 Thanks.\n",
      "@therealtommydel Trump for President! Tom Brady as running mate?\n",
      "@enzotorin @realDonaldTrump Trump is the man #Trump2016\n",
      "@WilyKayote @LenToddWOR I hope the Don throws his hat in the ring for POTUS. He can't be bought! He said this country is going to Hell\n",
      "@KhathuEnos ignoring haters and losers is the best medicine of success build a wall from whatever they throw towards you Sir.\n",
      "@somegirl71 @realDonaldTrump Look forward to hearing you every Monday on @foxandfriends. You are exactly what this country needs!!!\n",
      "@fackinpeter @realDonaldTrump im ready for u to make america great again\n",
      "Via @HuffPostPol by @_under_current: “Donald Trump Will End Outsourcing If President” \n",
      "@iamgavinjame To make America great again we must #THINKBIG & understand that it's #TimeToGetTough on China! @realDonaldTrump will do that!,05-20-2015 16:44:25,21,41,false,601065955855376384 Twitter Web Client,What people don’t know about Kasich- he was a managing partner of the horrendous Lehman Brothers when it totally destroyed the economy!,05-20-2015 14:07:55,423,415,false,601026570904567809 Twitter Web Client,I now see John Kasich from Ohio- who is desperate to run- is using my line “Make America Great Again”. Typical pol- no imagination!,05-20-2015 14:07:00,53,93,false,601026339110592512 Twitter for Android,There is no way my friend Bob Kraft agreed not to appeal the NFL decision without making a deal to at least get something. We love Tom Brady,05-20-2015 11:55:37,270,507,false,600993273994412033 Twitter for Android,@GirlCant_helpit: @realDonaldTrump run for President. You'd have my vote \n",
      "@DoomsdayFAN @realDonaldTrump Will make America as successful as his empire! WE NEED TRUMP!\n"
     ]
    }
   ],
   "source": [
    "y_probs = clf.predict_proba(X_test.text)[:,1]\n",
    "fp_ind = (y_probs > 0.5) & ~y_test\n",
    "\n",
    "for msg in X_test[fp_ind][\"text\"][:10].values:\n",
    "    print(msg)"
   ]
  },
  {
   "cell_type": "markdown",
   "metadata": {},
   "source": [
    "Seems to be a data quality issue. These all look like retweets, while we had supposedly filtered those out. Lets look at the messages with `@realDonalTrump`, since it wouldn't really make much sense for trump to reference himself in his tweets."
   ]
  },
  {
   "cell_type": "code",
   "execution_count": 12,
   "metadata": {},
   "outputs": [
    {
     "data": {
      "text/html": [
       "\n",
       "    <style>\n",
       "    table.eli5-weights tr:hover {\n",
       "        filter: brightness(85%);\n",
       "    }\n",
       "</style>\n",
       "\n",
       "\n",
       "\n",
       "    \n",
       "\n",
       "    \n",
       "\n",
       "    \n",
       "\n",
       "    \n",
       "\n",
       "    \n",
       "\n",
       "    \n",
       "\n",
       "\n",
       "    \n",
       "\n",
       "    \n",
       "\n",
       "    \n",
       "\n",
       "    \n",
       "        \n",
       "\n",
       "    \n",
       "\n",
       "        \n",
       "\n",
       "        \n",
       "    \n",
       "        \n",
       "        \n",
       "    \n",
       "        <p style=\"margin-bottom: 0.5em; margin-top: 0em\">\n",
       "            <b>\n",
       "    \n",
       "        y=1\n",
       "    \n",
       "</b>\n",
       "\n",
       "    \n",
       "    (probability <b>0.996</b>, score <b>5.585</b>)\n",
       "\n",
       "top features\n",
       "        </p>\n",
       "    \n",
       "    <table class=\"eli5-weights\"\n",
       "           style=\"border-collapse: collapse; border: none; margin-top: 0em; table-layout: auto; margin-bottom: 2em;\">\n",
       "        <thead>\n",
       "        <tr style=\"border: none;\">\n",
       "            \n",
       "                <th style=\"padding: 0 1em 0 0.5em; text-align: right; border: none;\" title=\"Feature contribution already accounts for the feature value (for linear models, contribution = weight * feature value), and the sum of feature contributions is equal to the score or, for some classifiers, to the probability. Feature values are shown if &quot;show_feature_values&quot; is True.\">\n",
       "                    Contribution<sup>?</sup>\n",
       "                </th>\n",
       "            \n",
       "            <th style=\"padding: 0 0.5em 0 0.5em; text-align: left; border: none;\">Feature</th>\n",
       "            \n",
       "        </tr>\n",
       "        </thead>\n",
       "        <tbody>\n",
       "        \n",
       "            <tr style=\"background-color: hsl(120, 100.00%, 80.00%); border: none;\">\n",
       "    <td style=\"padding: 0 1em 0 0.5em; text-align: right; border: none;\">\n",
       "        +5.611\n",
       "    </td>\n",
       "    <td style=\"padding: 0 0.5em 0 0.5em; text-align: left; border: none;\">\n",
       "        Highlighted in text (sum)\n",
       "    </td>\n",
       "    \n",
       "</tr>\n",
       "        \n",
       "        \n",
       "\n",
       "        \n",
       "        \n",
       "            <tr style=\"background-color: hsl(0, 100.00%, 99.54%); border: none;\">\n",
       "    <td style=\"padding: 0 1em 0 0.5em; text-align: right; border: none;\">\n",
       "        -0.026\n",
       "    </td>\n",
       "    <td style=\"padding: 0 0.5em 0 0.5em; text-align: left; border: none;\">\n",
       "        &lt;BIAS&gt;\n",
       "    </td>\n",
       "    \n",
       "</tr>\n",
       "        \n",
       "\n",
       "        </tbody>\n",
       "    </table>\n",
       "\n",
       "    \n",
       "\n",
       "\n",
       "\n",
       "    <p style=\"margin-bottom: 2.5em; margin-top:-0.5em;\">\n",
       "        <span style=\"opacity: 0.80\">@</span><span style=\"background-color: hsl(120, 100.00%, 89.16%); opacity: 0.83\" title=\"0.717\">enzotorin</span><span style=\"opacity: 0.80\"> @</span><span style=\"background-color: hsl(120, 100.00%, 60.00%); opacity: 1.00\" title=\"4.628\">realdonaldtrump</span><span style=\"opacity: 0.80\"> </span><span style=\"background-color: hsl(120, 100.00%, 89.50%); opacity: 0.83\" title=\"0.685\">trump</span><span style=\"opacity: 0.80\"> </span><span style=\"background-color: hsl(120, 100.00%, 98.42%); opacity: 0.80\" title=\"0.046\">is</span><span style=\"opacity: 0.80\"> </span><span style=\"background-color: hsl(120, 100.00%, 95.52%); opacity: 0.81\" title=\"0.203\">the</span><span style=\"opacity: 0.80\"> </span><span style=\"background-color: hsl(120, 100.00%, 98.34%); opacity: 0.80\" title=\"0.049\">man</span><span style=\"opacity: 0.80\"> #</span><span style=\"background-color: hsl(120, 100.00%, 94.82%); opacity: 0.81\" title=\"0.250\">trump2016</span>\n",
       "    </p>\n",
       "\n",
       "\n",
       "    \n",
       "\n",
       "    \n",
       "\n",
       "    \n",
       "\n",
       "    \n",
       "\n",
       "\n",
       "    \n",
       "\n",
       "    \n",
       "\n",
       "    \n",
       "\n",
       "    \n",
       "\n",
       "    \n",
       "\n",
       "    \n",
       "\n",
       "\n",
       "    \n",
       "\n",
       "    \n",
       "\n",
       "    \n",
       "\n",
       "    \n",
       "\n",
       "    \n",
       "\n",
       "    \n",
       "\n",
       "\n",
       "\n"
      ],
      "text/plain": [
       "Explanation(estimator=\"SGDClassifier(alpha=0.001, average=False, class_weight=None,\\n       early_stopping=False, epsilon=0.1, eta0=0.0, fit_intercept=True,\\n       l1_ratio=0.15, learning_rate='optimal', loss='log', max_iter=None,\\n       n_iter=None, n_iter_no_change=5, n_jobs=None, penalty='elasticnet',\\n       power_t=0.5,\\n       random_state=<mtrand.RandomState object at 0x7f391a892b40>,\\n       shuffle=True, tol=0.001, validation_fraction=0.1, verbose=0,\\n       warm_start=False)\", description=None, error=None, method='linear model', is_regression=False, targets=[TargetExplanation(target=1, feature_weights=FeatureWeights(pos=[FeatureWeight(feature='realdonaldtrump', weight=3.2244185364686646, std=None, value=1.0), FeatureWeight(feature='trump2016', weight=0.9791857220360473, std=None, value=1.0), FeatureWeight(feature='enzotorin realdonaldtrump', weight=0.8241177233384193, std=None, value=1.0), FeatureWeight(feature='man', weight=0.6802197933100591, std=None, value=1.0), FeatureWeight(feature='realdonaldtrump trump', weight=0.5794215351524116, std=None, value=1.0), FeatureWeight(feature='is the', weight=0.19365473495701088, std=None, value=1.0), FeatureWeight(feature='trump', weight=0.10524470978887482, std=None, value=1.0), FeatureWeight(feature='the man', weight=0.09830345428252237, std=None, value=1.0)], neg=[FeatureWeight(feature='man trump2016', weight=-0.7294508176281833, std=None, value=1.0), FeatureWeight(feature='is', weight=-0.14782010987698468, std=None, value=1.0), FeatureWeight(feature='enzotorin', weight=-0.10732211063400716, std=None, value=1.0), FeatureWeight(feature='the', weight=-0.08901952174745083, std=None, value=1.0), FeatureWeight(feature='<BIAS>', weight=-0.02561168093390968, std=None, value=1.0)], pos_remaining=0, neg_remaining=0), proba=0.9962615620375593, score=5.585341968513474, weighted_spans=WeightedSpans(docs_weighted_spans=[DocWeightedSpans(document='@enzotorin @realdonaldtrump trump is the man #trump2016', spans=[('enzotorin', [(1, 10)], -0.10732211063400716), ('realdonaldtrump', [(12, 27)], 3.2244185364686646), ('trump', [(28, 33)], 0.10524470978887482), ('is', [(34, 36)], -0.14782010987698468), ('the', [(37, 40)], -0.08901952174745083), ('man', [(41, 44)], 0.6802197933100591), ('trump2016', [(46, 55)], 0.9791857220360473), ('enzotorin realdonaldtrump', [(1, 10), (12, 27)], 0.8241177233384193), ('realdonaldtrump trump', [(12, 27), (28, 33)], 0.5794215351524116), ('is the', [(34, 36), (37, 40)], 0.19365473495701088), ('the man', [(37, 40), (41, 44)], 0.09830345428252237), ('man trump2016', [(41, 44), (46, 55)], -0.7294508176281833)], preserve_density=False, vec_name=None)], other=FeatureWeights(pos=[FeatureWeight(feature=<FormattedFeatureName 'Highlighted in text (sum)'>, weight=5.610953649447383, std=None, value=None)], neg=[FeatureWeight(feature='<BIAS>', weight=-0.02561168093390968, std=None, value=1.0)], pos_remaining=0, neg_remaining=0)))], feature_importances=None, decision_tree=None, highlight_spaces=None, transition_features=None)"
      ]
     },
     "execution_count": 12,
     "metadata": {},
     "output_type": "execute_result"
    }
   ],
   "source": [
    "from eli5.lime import TextExplainer\n",
    "\n",
    "te = TextExplainer()\n",
    "te.fit(\"@enzotorin @realDonaldTrump Trump is the man #Trump2016\", clf.predict_proba)\n",
    "te.explain_prediction()"
   ]
  },
  {
   "cell_type": "code",
   "execution_count": 10,
   "metadata": {},
   "outputs": [
    {
     "data": {
      "text/html": [
       "\n",
       "    <style>\n",
       "    table.eli5-weights tr:hover {\n",
       "        filter: brightness(85%);\n",
       "    }\n",
       "</style>\n",
       "\n",
       "\n",
       "\n",
       "    \n",
       "\n",
       "    \n",
       "\n",
       "    \n",
       "\n",
       "    \n",
       "\n",
       "    \n",
       "\n",
       "    \n",
       "\n",
       "\n",
       "    \n",
       "\n",
       "    \n",
       "\n",
       "    \n",
       "\n",
       "    \n",
       "        \n",
       "\n",
       "    \n",
       "\n",
       "        \n",
       "\n",
       "        \n",
       "    \n",
       "        \n",
       "        \n",
       "    \n",
       "        <p style=\"margin-bottom: 0.5em; margin-top: 0em\">\n",
       "            <b>\n",
       "    \n",
       "        y=1\n",
       "    \n",
       "</b>\n",
       "\n",
       "    \n",
       "    (probability <b>0.724</b>, score <b>0.964</b>)\n",
       "\n",
       "top features\n",
       "        </p>\n",
       "    \n",
       "    <table class=\"eli5-weights\"\n",
       "           style=\"border-collapse: collapse; border: none; margin-top: 0em; table-layout: auto; margin-bottom: 2em;\">\n",
       "        <thead>\n",
       "        <tr style=\"border: none;\">\n",
       "            \n",
       "                <th style=\"padding: 0 1em 0 0.5em; text-align: right; border: none;\" title=\"Feature contribution already accounts for the feature value (for linear models, contribution = weight * feature value), and the sum of feature contributions is equal to the score or, for some classifiers, to the probability. Feature values are shown if &quot;show_feature_values&quot; is True.\">\n",
       "                    Contribution<sup>?</sup>\n",
       "                </th>\n",
       "            \n",
       "            <th style=\"padding: 0 0.5em 0 0.5em; text-align: left; border: none;\">Feature</th>\n",
       "            \n",
       "        </tr>\n",
       "        </thead>\n",
       "        <tbody>\n",
       "        \n",
       "            <tr style=\"background-color: hsl(120, 100.00%, 80.00%); border: none;\">\n",
       "    <td style=\"padding: 0 1em 0 0.5em; text-align: right; border: none;\">\n",
       "        +1.302\n",
       "    </td>\n",
       "    <td style=\"padding: 0 0.5em 0 0.5em; text-align: left; border: none;\">\n",
       "        Highlighted in text (sum)\n",
       "    </td>\n",
       "    \n",
       "</tr>\n",
       "        \n",
       "        \n",
       "\n",
       "        \n",
       "        \n",
       "            <tr style=\"background-color: hsl(0, 100.00%, 92.21%); border: none;\">\n",
       "    <td style=\"padding: 0 1em 0 0.5em; text-align: right; border: none;\">\n",
       "        -0.338\n",
       "    </td>\n",
       "    <td style=\"padding: 0 0.5em 0 0.5em; text-align: left; border: none;\">\n",
       "        &lt;BIAS&gt;\n",
       "    </td>\n",
       "    \n",
       "</tr>\n",
       "        \n",
       "\n",
       "        </tbody>\n",
       "    </table>\n",
       "\n",
       "    \n",
       "\n",
       "\n",
       "\n",
       "    <p style=\"margin-bottom: 2.5em; margin-top:-0.5em;\">\n",
       "        <span style=\"opacity: 0.80\">@</span><span style=\"background-color: hsl(0, 100.00%, 91.60%); opacity: 0.82\" title=\"-0.036\">wilykayote</span><span style=\"opacity: 0.80\"> @</span><span style=\"background-color: hsl(120, 100.00%, 90.96%); opacity: 0.82\" title=\"0.040\">lentoddwor</span><span style=\"opacity: 0.80\"> </span><span style=\"background-color: hsl(120, 100.00%, 90.96%); opacity: 0.82\" title=\"0.040\">i</span><span style=\"opacity: 0.80\"> </span><span style=\"background-color: hsl(120, 100.00%, 69.34%); opacity: 0.94\" title=\"0.231\">hope</span><span style=\"opacity: 0.80\"> </span><span style=\"background-color: hsl(120, 100.00%, 84.42%); opacity: 0.85\" title=\"0.088\">the</span><span style=\"opacity: 0.80\"> </span><span style=\"background-color: hsl(120, 100.00%, 97.66%); opacity: 0.80\" title=\"0.006\">don</span><span style=\"opacity: 0.80\"> </span><span style=\"background-color: hsl(120, 100.00%, 92.10%); opacity: 0.82\" title=\"0.033\">throws</span><span style=\"opacity: 0.80\"> </span><span style=\"background-color: hsl(0, 100.00%, 96.54%); opacity: 0.81\" title=\"-0.010\">his</span><span style=\"opacity: 0.80\"> </span><span style=\"background-color: hsl(0, 100.00%, 92.32%); opacity: 0.82\" title=\"-0.032\">hat</span><span style=\"opacity: 0.80\"> </span><span style=\"background-color: hsl(120, 100.00%, 94.90%); opacity: 0.81\" title=\"0.018\">in</span><span style=\"opacity: 0.80\"> </span><span style=\"background-color: hsl(120, 100.00%, 96.53%); opacity: 0.81\" title=\"0.010\">the</span><span style=\"opacity: 0.80\"> </span><span style=\"background-color: hsl(0, 100.00%, 73.40%); opacity: 0.91\" title=\"-0.189\">ring</span><span style=\"opacity: 0.80\"> </span><span style=\"background-color: hsl(120, 100.00%, 89.32%); opacity: 0.83\" title=\"0.051\">for</span><span style=\"opacity: 0.80\"> </span><span style=\"background-color: hsl(120, 100.00%, 69.06%); opacity: 0.94\" title=\"0.235\">potus</span><span style=\"opacity: 0.80\">. he </span><span style=\"background-color: hsl(120, 100.00%, 96.35%); opacity: 0.81\" title=\"0.011\">can</span><span style=\"opacity: 0.80\">&#x27;</span><span style=\"background-color: hsl(120, 100.00%, 94.51%); opacity: 0.81\" title=\"0.020\">t</span><span style=\"opacity: 0.80\"> </span><span style=\"background-color: hsl(0, 100.00%, 93.66%); opacity: 0.81\" title=\"-0.024\">be</span><span style=\"opacity: 0.80\"> </span><span style=\"background-color: hsl(120, 100.00%, 90.80%); opacity: 0.82\" title=\"0.041\">bought</span><span style=\"opacity: 0.80\">! </span><span style=\"background-color: hsl(120, 100.00%, 93.44%); opacity: 0.82\" title=\"0.026\">he</span><span style=\"opacity: 0.80\"> </span><span style=\"background-color: hsl(120, 100.00%, 75.65%); opacity: 0.90\" title=\"0.167\">said</span><span style=\"opacity: 0.80\"> this </span><span style=\"background-color: hsl(120, 100.00%, 60.00%); opacity: 1.00\" title=\"0.338\">country</span><span style=\"opacity: 0.80\"> </span><span style=\"background-color: hsl(0, 100.00%, 91.49%); opacity: 0.82\" title=\"-0.037\">is</span><span style=\"opacity: 0.80\"> </span><span style=\"background-color: hsl(120, 100.00%, 84.64%); opacity: 0.85\" title=\"0.086\">going</span><span style=\"opacity: 0.80\"> to </span><span style=\"background-color: hsl(120, 100.00%, 70.26%); opacity: 0.93\" title=\"0.222\">hell</span>\n",
       "    </p>\n",
       "\n",
       "\n",
       "    \n",
       "\n",
       "    \n",
       "\n",
       "    \n",
       "\n",
       "    \n",
       "\n",
       "\n",
       "    \n",
       "\n",
       "    \n",
       "\n",
       "    \n",
       "\n",
       "    \n",
       "\n",
       "    \n",
       "\n",
       "    \n",
       "\n",
       "\n",
       "    \n",
       "\n",
       "    \n",
       "\n",
       "    \n",
       "\n",
       "    \n",
       "\n",
       "    \n",
       "\n",
       "    \n",
       "\n",
       "\n",
       "\n"
      ],
      "text/plain": [
       "Explanation(estimator=\"SGDClassifier(alpha=0.001, average=False, class_weight=None,\\n       early_stopping=False, epsilon=0.1, eta0=0.0, fit_intercept=True,\\n       l1_ratio=0.15, learning_rate='optimal', loss='log', max_iter=None,\\n       n_iter=None, n_iter_no_change=5, n_jobs=None, penalty='elasticnet',\\n       power_t=0.5,\\n       random_state=<mtrand.RandomState object at 0x7f391a2272d0>,\\n       shuffle=True, tol=0.001, validation_fraction=0.1, verbose=0,\\n       warm_start=False)\", description=None, error=None, method='linear model', is_regression=False, targets=[TargetExplanation(target=1, feature_weights=FeatureWeights(pos=[FeatureWeight(feature='country', weight=0.3384696303057002, std=None, value=1.0), FeatureWeight(feature='hope', weight=0.23145967667307718, std=None, value=1.0), FeatureWeight(feature='hell', weight=0.22162673019564016, std=None, value=1.0), FeatureWeight(feature='the', weight=0.19463912435116235, std=None, value=2.0), FeatureWeight(feature='potus', weight=0.18321569082483366, std=None, value=1.0), FeatureWeight(feature='said', weight=0.16659458032178234, std=None, value=1.0), FeatureWeight(feature='going', weight=0.12336017093519676, std=None, value=1.0), FeatureWeight(feature='in', weight=0.10489760142212526, std=None, value=1.0), FeatureWeight(feature='for potus', weight=0.05133563170087838, std=None, value=1.0), FeatureWeight(feature='don throws', weight=0.04363523527004626, std=None, value=1.0), FeatureWeight(feature='lentoddwor i', weight=0.04043077244024096, std=None, value=1.0), FeatureWeight(feature='bought he', weight=0.025569849676983298, std=None, value=1.0), FeatureWeight(feature='t', weight=0.019858516619158075, std=None, value=1.0), FeatureWeight(feature='be bought', weight=0.015881045260562554, std=None, value=1.0), FeatureWeight(feature='can', weight=0.01105577234739837, std=None, value=1.0)], neg=[FeatureWeight(feature='<BIAS>', weight=-0.33830212416738903, std=None, value=1.0), FeatureWeight(feature='ring', weight=-0.18899460747561625, std=None, value=1.0), FeatureWeight(feature='in the', weight=-0.0870384345603038, std=None, value=1.0), FeatureWeight(feature='be', weight=-0.040237254833473034, std=None, value=1.0), FeatureWeight(feature='is going', weight=-0.03711422403991929, std=None, value=1.0), FeatureWeight(feature='wilykayote', weight=-0.03642688141176073, std=None, value=1.0), FeatureWeight(feature='hat', weight=-0.032016454147983785, std=None, value=1.0), FeatureWeight(feature='don', weight=-0.028438256645022437, std=None, value=1.0), FeatureWeight(feature='throws his', weight=-0.010274939473208953, std=None, value=1.0), FeatureWeight(feature='the don', weight=-0.009321684392796558, std=None, value=1.0)], pos_remaining=0, neg_remaining=0), proba=0.723895008215943, score=0.9638651671973121, weighted_spans=WeightedSpans(docs_weighted_spans=[DocWeightedSpans(document=\"@wilykayote @lentoddwor i hope the don throws his hat in the ring for potus. he can't be bought! he said this country is going to hell\", spans=[('wilykayote', [(1, 11)], -0.03642688141176073), ('hope', [(26, 30)], 0.23145967667307718), ('the', [(31, 34)], 0.19463912435116235), ('don', [(35, 38)], -0.028438256645022437), ('hat', [(50, 53)], -0.032016454147983785), ('in', [(54, 56)], 0.10489760142212526), ('the', [(57, 60)], 0.19463912435116235), ('ring', [(61, 65)], -0.18899460747561625), ('potus', [(70, 75)], 0.18321569082483366), ('can', [(80, 83)], 0.01105577234739837), ('t', [(84, 85)], 0.019858516619158075), ('be', [(86, 88)], -0.040237254833473034), ('said', [(100, 104)], 0.16659458032178234), ('country', [(110, 117)], 0.3384696303057002), ('going', [(121, 126)], 0.12336017093519676), ('hell', [(130, 134)], 0.22162673019564016), ('lentoddwor i', [(13, 23), (24, 25)], 0.04043077244024096), ('the don', [(31, 34), (35, 38)], -0.009321684392796558), ('don throws', [(35, 38), (39, 45)], 0.04363523527004626), ('throws his', [(39, 45), (46, 49)], -0.010274939473208953), ('in the', [(54, 56), (57, 60)], -0.0870384345603038), ('for potus', [(66, 69), (70, 75)], 0.05133563170087838), ('be bought', [(86, 88), (89, 95)], 0.015881045260562554), ('bought he', [(89, 95), (97, 99)], 0.025569849676983298), ('is going', [(118, 120), (121, 126)], -0.03711422403991929)], preserve_density=False, vec_name=None)], other=FeatureWeights(pos=[FeatureWeight(feature=<FormattedFeatureName 'Highlighted in text (sum)'>, weight=1.3021672913647007, std=None, value=None)], neg=[FeatureWeight(feature='<BIAS>', weight=-0.33830212416738903, std=None, value=1.0)], pos_remaining=0, neg_remaining=0)))], feature_importances=None, decision_tree=None, highlight_spaces=None, transition_features=None)"
      ]
     },
     "execution_count": 10,
     "metadata": {},
     "output_type": "execute_result"
    }
   ],
   "source": [
    "te.fit(\"@WilyKayote @LenToddWOR I hope the Don throws his hat in the ring for POTUS. He can't be bought! He said this country is going to Hell\", clf.predict_proba)\n",
    "te.explain_prediction()"
   ]
  },
  {
   "cell_type": "code",
   "execution_count": null,
   "metadata": {},
   "outputs": [],
   "source": []
  }
 ],
 "metadata": {
  "kernelspec": {
   "display_name": "Python 3",
   "language": "python",
   "name": "python3"
  },
  "language_info": {
   "codemirror_mode": {
    "name": "ipython",
    "version": 3
   },
   "file_extension": ".py",
   "mimetype": "text/x-python",
   "name": "python",
   "nbconvert_exporter": "python",
   "pygments_lexer": "ipython3",
   "version": "3.7.3"
  }
 },
 "nbformat": 4,
 "nbformat_minor": 2
}
